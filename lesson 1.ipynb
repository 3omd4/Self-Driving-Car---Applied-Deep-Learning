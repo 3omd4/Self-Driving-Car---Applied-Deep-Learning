{
 "cells": [
  {
   "cell_type": "code",
   "execution_count": 1,
   "id": "f265fd59-d667-413e-80c2-918bf2bef857",
   "metadata": {},
   "outputs": [
    {
     "name": "stdout",
     "output_type": "stream",
     "text": [
      "2\n"
     ]
    }
   ],
   "source": [
    "print(1+1)"
   ]
  },
  {
   "cell_type": "code",
   "execution_count": 2,
   "id": "c1687e2c-83c8-448b-a6e4-dbec405b2b23",
   "metadata": {},
   "outputs": [
    {
     "data": {
      "text/plain": [
       "2"
      ]
     },
     "execution_count": 2,
     "metadata": {},
     "output_type": "execute_result"
    }
   ],
   "source": [
    "(1+1)"
   ]
  },
  {
   "cell_type": "code",
   "execution_count": 3,
   "id": "f9f05e76-2ba1-44cb-bc43-8c96c3db110d",
   "metadata": {},
   "outputs": [
    {
     "data": {
      "text/plain": [
       "36"
      ]
     },
     "execution_count": 3,
     "metadata": {},
     "output_type": "execute_result"
    }
   ],
   "source": [
    "6 ** 2"
   ]
  },
  {
   "cell_type": "code",
   "execution_count": 4,
   "id": "fab1cd8f-33dc-4718-b019-8144170a17ff",
   "metadata": {},
   "outputs": [
    {
     "data": {
      "text/plain": [
       "6"
      ]
     },
     "execution_count": 4,
     "metadata": {},
     "output_type": "execute_result"
    }
   ],
   "source": [
    "13//2 #devide and round to the nearest integer"
   ]
  },
  {
   "cell_type": "code",
   "execution_count": 5,
   "id": "0d2796a4-db59-4446-abe0-8e103b1126bc",
   "metadata": {},
   "outputs": [
    {
     "data": {
      "text/plain": [
       "(21, 'Mohamed', 'male')"
      ]
     },
     "execution_count": 5,
     "metadata": {},
     "output_type": "execute_result"
    }
   ],
   "source": [
    "age, name, gender = 21, 'Mohamed', 'male' #can't use symbols like $&# in variable names\n",
    "age, name, gender "
   ]
  },
  {
   "cell_type": "code",
   "execution_count": 6,
   "id": "c3f21368-1b7b-4519-a700-7639c6e47563",
   "metadata": {},
   "outputs": [
    {
     "data": {
      "text/plain": [
       "26"
      ]
     },
     "execution_count": 6,
     "metadata": {},
     "output_type": "execute_result"
    }
   ],
   "source": [
    "age+=5\n",
    "age"
   ]
  },
  {
   "cell_type": "code",
   "execution_count": 7,
   "id": "0bbfadb1-5cb8-40ac-9ebe-8546686c76df",
   "metadata": {},
   "outputs": [
    {
     "name": "stdout",
     "output_type": "stream",
     "text": [
      "2.3333333333333335\n",
      "<class 'float'>\n"
     ]
    }
   ],
   "source": [
    "x=7\n",
    "y=3\n",
    "z=x/y\n",
    "print(z)\n",
    "print(type(z))"
   ]
  },
  {
   "cell_type": "code",
   "execution_count": 8,
   "id": "e5b7e4f5-9a98-4570-a0fb-2bf090728b05",
   "metadata": {},
   "outputs": [
    {
     "name": "stdout",
     "output_type": "stream",
     "text": [
      "<class 'int'>\n"
     ]
    }
   ],
   "source": [
    "print(type(int(7/3.5)))"
   ]
  },
  {
   "cell_type": "code",
   "execution_count": 9,
   "id": "e9b12f85-221b-4c81-a269-2d3710694b53",
   "metadata": {},
   "outputs": [
    {
     "data": {
      "text/plain": [
       "3"
      ]
     },
     "execution_count": 9,
     "metadata": {},
     "output_type": "execute_result"
    }
   ],
   "source": [
    "w=int(3.7)\n",
    "w"
   ]
  },
  {
   "cell_type": "code",
   "execution_count": 10,
   "id": "a620e953-191a-4969-a91f-3366059bc94c",
   "metadata": {},
   "outputs": [
    {
     "name": "stdout",
     "output_type": "stream",
     "text": [
      "Omar said \"nothing is given\"\n"
     ]
    }
   ],
   "source": [
    "dialogue = 'Omar said \"nothing is given\"'\n",
    "print(dialogue)"
   ]
  },
  {
   "cell_type": "code",
   "execution_count": 11,
   "id": "d869a92e-9f57-4722-85c9-fdfe205640fa",
   "metadata": {},
   "outputs": [
    {
     "name": "stdout",
     "output_type": "stream",
     "text": [
      "3omd4 replied 'Every thing is Earned'\n"
     ]
    }
   ],
   "source": [
    "dialogue = '3omd4 replied \\'Every thing is Earned\\''\n",
    "print(dialogue)"
   ]
  },
  {
   "cell_type": "code",
   "execution_count": 12,
   "id": "3cffe79a-cea4-42b1-8bf1-b04bbd72d5d1",
   "metadata": {},
   "outputs": [
    {
     "name": "stdout",
     "output_type": "stream",
     "text": [
      "I'm 21   years old\n"
     ]
    }
   ],
   "source": [
    "segment_1=\"I'm 21\"\n",
    "segment_2=\"years old\"\n",
    "sentence= segment_1 + 3*' ' + segment_2\n",
    "print(sentence)"
   ]
  },
  {
   "cell_type": "code",
   "execution_count": 13,
   "id": "086aee2a-c25f-4ee3-9941-4505be0ded1e",
   "metadata": {},
   "outputs": [
    {
     "name": "stdout",
     "output_type": "stream",
     "text": [
      "18\n"
     ]
    }
   ],
   "source": [
    "print(len(sentence)) #returns the length of the string"
   ]
  },
  {
   "cell_type": "code",
   "execution_count": 14,
   "id": "04656069-5af2-423f-90a1-35bffa9184c8",
   "metadata": {},
   "outputs": [],
   "source": [
    "flag_1=True\n",
    "flag_2=False"
   ]
  },
  {
   "cell_type": "code",
   "execution_count": 15,
   "id": "7c42dd82-8d31-4f5c-baaf-81930573d96a",
   "metadata": {},
   "outputs": [
    {
     "name": "stdout",
     "output_type": "stream",
     "text": [
      "False\n",
      "<class 'bool'>\n"
     ]
    }
   ],
   "source": [
    "comparison = 1>2 or not 1<2\n",
    "print (comparison)\n",
    "print(type(comparison))"
   ]
  },
  {
   "cell_type": "code",
   "execution_count": 16,
   "id": "a2880612-e2fb-4889-8c6e-113e641e93c5",
   "metadata": {},
   "outputs": [],
   "source": [
    "#methods"
   ]
  },
  {
   "cell_type": "code",
   "execution_count": 17,
   "id": "6b7185ed-b764-4d53-92a0-70892d342ef5",
   "metadata": {},
   "outputs": [
    {
     "name": "stdout",
     "output_type": "stream",
     "text": [
      "HARRY POTTER\n",
      "harry potter\n",
      "3\n"
     ]
    }
   ],
   "source": [
    "movie = 'Harry Potter'\n",
    "print(movie.upper())\n",
    "print(movie.lower())\n",
    "print(movie.count('r'))"
   ]
  },
  {
   "cell_type": "code",
   "execution_count": 18,
   "id": "571806a4-83c8-42bd-a014-41f47cb65119",
   "metadata": {},
   "outputs": [],
   "source": [
    "# sequence [element_1, element_2, element_3] (lists& tuples)"
   ]
  },
  {
   "cell_type": "code",
   "execution_count": 19,
   "id": "4a6c29bb-86c4-4797-8424-ad6fff4f9a31",
   "metadata": {},
   "outputs": [
    {
     "data": {
      "text/plain": [
       "'jane'"
      ]
     },
     "execution_count": 19,
     "metadata": {},
     "output_type": "execute_result"
    }
   ],
   "source": [
    "names = ['jane', '3omd4', 'du7ha'] # list\n",
    "names[0]"
   ]
  },
  {
   "cell_type": "code",
   "execution_count": 20,
   "id": "e91f4800-5a8f-462a-97b7-1c7647a1974d",
   "metadata": {},
   "outputs": [
    {
     "name": "stdout",
     "output_type": "stream",
     "text": [
      "<class 'list'>\n",
      "<class 'bool'>\n",
      "<class 'str'>\n",
      "<class 'int'>\n"
     ]
    }
   ],
   "source": [
    "random = [True, 'Hello', 69] # lists can have different data types\n",
    "print(type(random))\n",
    "print(type(random[0]))\n",
    "print(type(random[1]))\n",
    "print(type(random[2]))"
   ]
  },
  {
   "cell_type": "code",
   "execution_count": 21,
   "id": "f8b9ae70-2306-4432-9cda-c22890394e38",
   "metadata": {},
   "outputs": [
    {
     "name": "stdout",
     "output_type": "stream",
     "text": [
      "69\n",
      "Hello\n",
      "True\n"
     ]
    }
   ],
   "source": [
    "print(random[-1])\n",
    "print(random[-2])\n",
    "print(random[-3])"
   ]
  },
  {
   "cell_type": "code",
   "execution_count": 22,
   "id": "cc69c518-e476-4b37-a266-b556c51ed4d6",
   "metadata": {},
   "outputs": [],
   "source": [
    "#16 SLICING"
   ]
  },
  {
   "cell_type": "code",
   "execution_count": 23,
   "id": "9888def3",
   "metadata": {},
   "outputs": [
    {
     "name": "stdout",
     "output_type": "stream",
     "text": [
      "[2, 3, 4, 5, 6, 7, 8, 9]\n",
      "[0, 1, 2, 3, 4, 5, 6, 7]\n",
      "[0, 1, 2, 3, 4, 5, 6, 7]\n",
      "[3, 4, 5, 6, 7, 8, 9, 10]\n"
     ]
    }
   ],
   "source": [
    "numbers =[0,1,2,3,4,5,6,7,8,9,10]\n",
    "print(numbers[2:10])\n",
    "print(numbers[0:8])\n",
    "print(numbers[:8])\n",
    "print(numbers[3:])"
   ]
  },
  {
   "cell_type": "code",
   "execution_count": 24,
   "id": "13ac7908",
   "metadata": {},
   "outputs": [
    {
     "name": "stdout",
     "output_type": "stream",
     "text": [
      "[0, 1, 2, 3, 4, 5, 6, 7, 8, 9]\n",
      "[0, 2, 4, 6, 8]\n"
     ]
    }
   ],
   "source": [
    "numbers = list(range(0, 10))\n",
    "print (numbers)\n",
    "numbers = list(range(0, 10,2))\n",
    "print (numbers)"
   ]
  },
  {
   "cell_type": "code",
   "execution_count": 25,
   "id": "9f7701e4",
   "metadata": {},
   "outputs": [
    {
     "name": "stdout",
     "output_type": "stream",
     "text": [
      "False\n",
      "True\n"
     ]
    }
   ],
   "source": [
    "months = ['june', 'february']\n",
    "print('june' not in months)\n",
    "print('june' in months)"
   ]
  },
  {
   "cell_type": "code",
   "execution_count": 26,
   "id": "0656b200",
   "metadata": {},
   "outputs": [
    {
     "name": "stdout",
     "output_type": "stream",
     "text": [
      "True\n"
     ]
    }
   ],
   "source": [
    "course = 'python crash course'\n",
    "print('crash' in course)"
   ]
  },
  {
   "cell_type": "code",
   "execution_count": 27,
   "id": "4a587d85",
   "metadata": {},
   "outputs": [
    {
     "name": "stdout",
     "output_type": "stream",
     "text": [
      "['banana', 'potato']\n"
     ]
    }
   ],
   "source": [
    "list_mutable = ['banana','tomato']\n",
    "list_mutable[1]='potato'\n",
    "print (list_mutable)"
   ]
  },
  {
   "cell_type": "code",
   "execution_count": 28,
   "id": "73ec8525",
   "metadata": {},
   "outputs": [
    {
     "ename": "TypeError",
     "evalue": "'str' object does not support item assignment",
     "output_type": "error",
     "traceback": [
      "\u001b[1;31m---------------------------------------------------------------------------\u001b[0m",
      "\u001b[1;31mTypeError\u001b[0m                                 Traceback (most recent call last)",
      "Cell \u001b[1;32mIn[28], line 2\u001b[0m\n\u001b[0;32m      1\u001b[0m string_immutable\u001b[38;5;241m=\u001b[39m\u001b[38;5;124m'\u001b[39m\u001b[38;5;124mtomate\u001b[39m\u001b[38;5;124m'\u001b[39m\u001b[38;5;66;03m#strings once declared cannot be changed\u001b[39;00m\n\u001b[1;32m----> 2\u001b[0m string_immutable[\u001b[38;5;241m-\u001b[39m\u001b[38;5;241m1\u001b[39m]\u001b[38;5;241m=\u001b[39m\u001b[38;5;124m'\u001b[39m\u001b[38;5;124mo\u001b[39m\u001b[38;5;124m'\u001b[39m\n\u001b[0;32m      3\u001b[0m \u001b[38;5;28mprint\u001b[39m(string_immutable)\n",
      "\u001b[1;31mTypeError\u001b[0m: 'str' object does not support item assignment"
     ]
    }
   ],
   "source": [
    "string_immutable='tomate'#strings once declared cannot be changed\n",
    "string_immutable[-1]='o'\n",
    "print(string_immutable)"
   ]
  },
  {
   "cell_type": "code",
   "execution_count": 20,
   "id": "38478912",
   "metadata": {},
   "outputs": [
    {
     "name": "stdout",
     "output_type": "stream",
     "text": [
      "omar\n",
      "ameer\n"
     ]
    }
   ],
   "source": [
    "#immutable\n",
    "name='ameer'\n",
    "other_name=name\n",
    "name='omar'#name now refer to different object\n",
    "print(name)\n",
    "print(other_name)\n"
   ]
  },
  {
   "cell_type": "code",
   "execution_count": 21,
   "id": "d5146e1f",
   "metadata": {},
   "outputs": [
    {
     "name": "stdout",
     "output_type": "stream",
     "text": [
      "['lord of rings', 'mazerunner']\n",
      "['lord of rings', 'mazerunner']\n"
     ]
    }
   ],
   "source": [
    "#mutable\n",
    "books=['taxi driver', 'mazerunner']\n",
    "other_books=books\n",
    "books[0]='lord of rings'\n",
    "print(books)\n",
    "print(other_books)\n",
    "#both variable refer to the same object"
   ]
  },
  {
   "cell_type": "code",
   "execution_count": 29,
   "id": "1492ca2b",
   "metadata": {},
   "outputs": [
    {
     "name": "stdout",
     "output_type": "stream",
     "text": [
      "4\n",
      "7\n"
     ]
    },
    {
     "data": {
      "text/plain": [
       "[1, 2, 4, 7]"
      ]
     },
     "execution_count": 29,
     "metadata": {},
     "output_type": "execute_result"
    }
   ],
   "source": [
    "numbers=[1, 2 ,7 ,4]\n",
    "print (len(numbers))\n",
    "print(max(numbers)) \n",
    "sorted(numbers)"
   ]
  },
  {
   "cell_type": "code",
   "execution_count": 27,
   "id": "72df0218",
   "metadata": {},
   "outputs": [
    {
     "name": "stdout",
     "output_type": "stream",
     "text": [
      "zak\n",
      "jack\n"
     ]
    },
    {
     "data": {
      "text/plain": [
       "['jack', 'thomas', 'zak']"
      ]
     },
     "execution_count": 27,
     "metadata": {},
     "output_type": "execute_result"
    }
   ],
   "source": [
    "names=['thomas', 'zak', 'jack']\n",
    "print(max(names))#lexicographically largest string\n",
    "print(min(names))#lexicographically smallest string\n",
    "#to use max/min with lists all objects should be of the same type\n",
    "sorted(names)"
   ]
  },
  {
   "cell_type": "code",
   "execution_count": 32,
   "id": "e285b254",
   "metadata": {},
   "outputs": [
    {
     "name": "stdout",
     "output_type": "stream",
     "text": [
      "1,2,3\n",
      "<class 'str'>\n"
     ]
    }
   ],
   "source": [
    "str=','.join(['1','2','3'])\n",
    "print(str)\n",
    "print(type(str))"
   ]
  },
  {
   "cell_type": "code",
   "execution_count": 33,
   "id": "9ccab6cb",
   "metadata": {},
   "outputs": [
    {
     "name": "stdout",
     "output_type": "stream",
     "text": [
      "this is crab, fuck, and shit\n"
     ]
    }
   ],
   "source": [
    "print('this is {}, {}, and {}'.format('crab', 'fuck', 'shit'))"
   ]
  },
  {
   "cell_type": "code",
   "execution_count": 35,
   "id": "f36399a3",
   "metadata": {},
   "outputs": [
    {
     "name": "stdout",
     "output_type": "stream",
     "text": [
      "['june', 'february', 'january']\n"
     ]
    }
   ],
   "source": [
    "months = ['june', 'february']\n",
    "months.append('january')\n",
    "print(months)"
   ]
  },
  {
   "cell_type": "code",
   "execution_count": 39,
   "id": "33f30bd2",
   "metadata": {},
   "outputs": [
    {
     "name": "stdout",
     "output_type": "stream",
     "text": [
      "<class 'tuple'>\n",
      "('tail', 'slim', 'blind')\n",
      "tail slim\n"
     ]
    }
   ],
   "source": [
    "#tuple (immutable)\n",
    "traits= 'tail', 'slim', 'blind'\n",
    "print(type(traits))\n",
    "dog, cat = traits[0], traits[1]\n",
    "print (traits)\n",
    "print(dog, cat)"
   ]
  },
  {
   "cell_type": "code",
   "execution_count": 46,
   "id": "5d9ca2ef",
   "metadata": {},
   "outputs": [
    {
     "name": "stdout",
     "output_type": "stream",
     "text": [
      "{1, 2, 3}\n",
      "<class 'set'>\n",
      "{1, 2, 3, 4}\n"
     ]
    }
   ],
   "source": [
    "#sets\n",
    "duplicate_numbers=[1,1,2,2,3,3]\n",
    "unique_numbers=set(duplicate_numbers)#sets are unordered & doesn't support indexing instead we can use in/not in\n",
    "print(unique_numbers)\n",
    "print(type(unique_numbers))\n",
    "unique_numbers.add(4)\n",
    "print(unique_numbers)\n",
    "\n"
   ]
  },
  {
   "cell_type": "code",
   "execution_count": 53,
   "id": "1a91dad5",
   "metadata": {},
   "outputs": [
    {
     "name": "stdout",
     "output_type": "stream",
     "text": [
      "182\n",
      "185\n",
      "None\n",
      "171\n",
      "True\n",
      "False\n"
     ]
    }
   ],
   "source": [
    "#Dinctionaries\n",
    "tall={'3omd4':182, 'Osama': 171, 'MEXI': 176}#not ordered by values insted can be indexed using keys which are unique\n",
    "print(tall['3omd4'])\n",
    "tall['du7ha']=185\n",
    "print(tall['du7ha'])\n",
    "print(tall.get('Omar'))\n",
    "print(tall.get('Osama'))\n",
    "print('MEXI' in tall)\n",
    "print(182 in tall)"
   ]
  },
  {
   "cell_type": "code",
   "execution_count": 56,
   "id": "dcd99b5b",
   "metadata": {},
   "outputs": [
    {
     "name": "stdout",
     "output_type": "stream",
     "text": [
      "{'price': 15, 'Kilos': 3}\n",
      "10\n"
     ]
    }
   ],
   "source": [
    "grocery_items={'banana':{'price':15,'Kilos':3},'Potato':{'price':10,'Kilos':5}}\n",
    "print(grocery_items['banana'])\n",
    "print(grocery_items['Potato']['price'])\n"
   ]
  },
  {
   "cell_type": "code",
   "execution_count": 66,
   "id": "531f9fc9",
   "metadata": {},
   "outputs": [
    {
     "name": "stdout",
     "output_type": "stream",
     "text": [
      "didn't found the brussel aprotoute\n",
      "just added the brussel aprotoute\n",
      "{'bananas': 2.99, 'apples': 1.29, 'papayas': 2.99, 'brussel aprotoute': 2.3}\n"
     ]
    }
   ],
   "source": [
    "groucery_items = {'bananas': 2.99,'apples': 1.29,'papayas':2.99}\n",
    "item='brussel aprotoute'\n",
    "if item in groucery_items:\n",
    "    print('found the', item)\n",
    "else:\n",
    "    print('didn\\'t found the', item)\n",
    "    groucery_items.update({item: 2.3})\n",
    "    print('just added the', item)\n",
    "print(groucery_items)"
   ]
  },
  {
   "cell_type": "code",
   "execution_count": 68,
   "id": "50e48908",
   "metadata": {},
   "outputs": [
    {
     "name": "stdout",
     "output_type": "stream",
     "text": [
      "too expensive\n"
     ]
    }
   ],
   "source": [
    "groucery_items = {'bananas': 2.99,'apples': 1.29,'papayas':2.99}\n",
    "item, price='potato', 10\n",
    "if item in groucery_items:\n",
    "    print('found the', item)\n",
    "    \n",
    "elif price>=10:\n",
    "    print('too expensive')\n",
    "\n",
    "else:\n",
    "    print('didn\\'t found the', item)\n",
    "    groucery_items.update({item: 2.3})\n",
    "    print('here is the updated list', groucery_items)"
   ]
  },
  {
   "cell_type": "code",
   "execution_count": 71,
   "id": "23a7d324",
   "metadata": {},
   "outputs": [
    {
     "name": "stdout",
     "output_type": "stream",
     "text": [
      "titanic\n",
      "finding nemo\n",
      "titanic 1995\n",
      "finding nemo 2003\n"
     ]
    }
   ],
   "source": [
    "movies={'titanic':1995, 'finding nemo': 2003}\n",
    "for key in movies:\n",
    "    print(key)\n",
    "\n",
    "for (key, value) in movies.items():\n",
    "    print(key, value)"
   ]
  },
  {
   "cell_type": "code",
   "execution_count": 73,
   "id": "841762f9",
   "metadata": {},
   "outputs": [
    {
     "name": "stdout",
     "output_type": "stream",
     "text": [
      "12\n"
     ]
    }
   ],
   "source": [
    "def rec_area(length, width):\n",
    "    '''\n",
    "    this is a docstring\n",
    "    INPUT: length and width of rectangle\n",
    "\n",
    "    OUTPUT:...\n",
    "    '''\n",
    "    return length*width\n",
    "\n",
    "print(rec_area(3, 4))"
   ]
  },
  {
   "cell_type": "code",
   "execution_count": 77,
   "id": "c6ca43ad",
   "metadata": {},
   "outputs": [
    {
     "name": "stdout",
     "output_type": "stream",
     "text": [
      "<class 'filter'>\n",
      "[2, 4]\n"
     ]
    }
   ],
   "source": [
    "numbers=[1, 2, 3, 4, 5]\n",
    "\n",
    "def even_odd(num):\n",
    "    return num%2==0\n",
    "\n",
    "print(type(filter(even_odd, numbers)))\n",
    "numbers = list(filter(even_odd, numbers))\n",
    "print(numbers)\n"
   ]
  },
  {
   "cell_type": "code",
   "execution_count": 78,
   "id": "fcb865e8",
   "metadata": {},
   "outputs": [
    {
     "name": "stdout",
     "output_type": "stream",
     "text": [
      "[2, 4]\n"
     ]
    }
   ],
   "source": [
    "numbers=[1, 2, 3, 4, 5]\n",
    "\n",
    "numbers = list(filter(lambda num: num%2==0, numbers))\n",
    "print(numbers)"
   ]
  },
  {
   "cell_type": "code",
   "execution_count": null,
   "id": "8c92943f",
   "metadata": {},
   "outputs": [],
   "source": []
  }
 ],
 "metadata": {
  "kernelspec": {
   "display_name": "base",
   "language": "python",
   "name": "python3"
  },
  "language_info": {
   "codemirror_mode": {
    "name": "ipython",
    "version": 3
   },
   "file_extension": ".py",
   "mimetype": "text/x-python",
   "name": "python",
   "nbconvert_exporter": "python",
   "pygments_lexer": "ipython3",
   "version": "3.12.4"
  }
 },
 "nbformat": 4,
 "nbformat_minor": 5
}
