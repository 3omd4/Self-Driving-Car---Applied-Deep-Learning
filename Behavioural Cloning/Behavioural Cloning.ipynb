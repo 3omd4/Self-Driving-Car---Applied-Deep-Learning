{
 "cells": [
  {
   "cell_type": "code",
   "execution_count": 80,
   "metadata": {},
   "outputs": [],
   "source": [
    "import os\n",
    "import numpy as np \n",
    "import cv2\n",
    "import matplotlib.pyplot as plt\n",
    "import tensorflow.keras as keras\n",
    "import pandas as pd\n",
    "import random\n",
    "import ntpath\n",
    "\n",
    "from keras.models import Sequential\n",
    "from keras.optimizers import Adam\n",
    "from keras.layers import Conv2D, MaxPooling2D, Dropout, Flatten, Dense\n",
    "from sklearn.utils import shuffle"
   ]
  },
  {
   "cell_type": "code",
   "execution_count": 81,
   "metadata": {},
   "outputs": [
    {
     "data": {
      "text/html": [
       "<div>\n",
       "<style scoped>\n",
       "    .dataframe tbody tr th:only-of-type {\n",
       "        vertical-align: middle;\n",
       "    }\n",
       "\n",
       "    .dataframe tbody tr th {\n",
       "        vertical-align: top;\n",
       "    }\n",
       "\n",
       "    .dataframe thead th {\n",
       "        text-align: right;\n",
       "    }\n",
       "</style>\n",
       "<table border=\"1\" class=\"dataframe\">\n",
       "  <thead>\n",
       "    <tr style=\"text-align: right;\">\n",
       "      <th></th>\n",
       "      <th>center</th>\n",
       "      <th>left</th>\n",
       "      <th>right</th>\n",
       "      <th>steering</th>\n",
       "      <th>throttle</th>\n",
       "      <th>reverse</th>\n",
       "      <th>speed</th>\n",
       "    </tr>\n",
       "  </thead>\n",
       "  <tbody>\n",
       "    <tr>\n",
       "      <th>0</th>\n",
       "      <td>C:\\Users\\3omd4\\Desktop\\Autonomous Udemy Course\\Behavioural Cloning\\Data Collected\\IMG\\center_2025_02_13_07_12_11_974.jpg</td>\n",
       "      <td>C:\\Users\\3omd4\\Desktop\\Autonomous Udemy Course\\Behavioural Cloning\\Data Collected\\IMG\\left_2025_02_13_07_12_11_974.jpg</td>\n",
       "      <td>C:\\Users\\3omd4\\Desktop\\Autonomous Udemy Course\\Behavioural Cloning\\Data Collected\\IMG\\right_2025_02_13_07_12_11_974.jpg</td>\n",
       "      <td>0.0</td>\n",
       "      <td>0.0</td>\n",
       "      <td>0</td>\n",
       "      <td>0.000078</td>\n",
       "    </tr>\n",
       "    <tr>\n",
       "      <th>1</th>\n",
       "      <td>C:\\Users\\3omd4\\Desktop\\Autonomous Udemy Course\\Behavioural Cloning\\Data Collected\\IMG\\center_2025_02_13_07_12_12_075.jpg</td>\n",
       "      <td>C:\\Users\\3omd4\\Desktop\\Autonomous Udemy Course\\Behavioural Cloning\\Data Collected\\IMG\\left_2025_02_13_07_12_12_075.jpg</td>\n",
       "      <td>C:\\Users\\3omd4\\Desktop\\Autonomous Udemy Course\\Behavioural Cloning\\Data Collected\\IMG\\right_2025_02_13_07_12_12_075.jpg</td>\n",
       "      <td>0.0</td>\n",
       "      <td>0.0</td>\n",
       "      <td>0</td>\n",
       "      <td>0.000079</td>\n",
       "    </tr>\n",
       "    <tr>\n",
       "      <th>2</th>\n",
       "      <td>C:\\Users\\3omd4\\Desktop\\Autonomous Udemy Course\\Behavioural Cloning\\Data Collected\\IMG\\center_2025_02_13_07_12_12_178.jpg</td>\n",
       "      <td>C:\\Users\\3omd4\\Desktop\\Autonomous Udemy Course\\Behavioural Cloning\\Data Collected\\IMG\\left_2025_02_13_07_12_12_178.jpg</td>\n",
       "      <td>C:\\Users\\3omd4\\Desktop\\Autonomous Udemy Course\\Behavioural Cloning\\Data Collected\\IMG\\right_2025_02_13_07_12_12_178.jpg</td>\n",
       "      <td>0.0</td>\n",
       "      <td>0.0</td>\n",
       "      <td>0</td>\n",
       "      <td>0.000078</td>\n",
       "    </tr>\n",
       "    <tr>\n",
       "      <th>3</th>\n",
       "      <td>C:\\Users\\3omd4\\Desktop\\Autonomous Udemy Course\\Behavioural Cloning\\Data Collected\\IMG\\center_2025_02_13_07_12_12_278.jpg</td>\n",
       "      <td>C:\\Users\\3omd4\\Desktop\\Autonomous Udemy Course\\Behavioural Cloning\\Data Collected\\IMG\\left_2025_02_13_07_12_12_278.jpg</td>\n",
       "      <td>C:\\Users\\3omd4\\Desktop\\Autonomous Udemy Course\\Behavioural Cloning\\Data Collected\\IMG\\right_2025_02_13_07_12_12_278.jpg</td>\n",
       "      <td>0.0</td>\n",
       "      <td>0.0</td>\n",
       "      <td>0</td>\n",
       "      <td>0.000078</td>\n",
       "    </tr>\n",
       "    <tr>\n",
       "      <th>4</th>\n",
       "      <td>C:\\Users\\3omd4\\Desktop\\Autonomous Udemy Course\\Behavioural Cloning\\Data Collected\\IMG\\center_2025_02_13_07_12_12_380.jpg</td>\n",
       "      <td>C:\\Users\\3omd4\\Desktop\\Autonomous Udemy Course\\Behavioural Cloning\\Data Collected\\IMG\\left_2025_02_13_07_12_12_380.jpg</td>\n",
       "      <td>C:\\Users\\3omd4\\Desktop\\Autonomous Udemy Course\\Behavioural Cloning\\Data Collected\\IMG\\right_2025_02_13_07_12_12_380.jpg</td>\n",
       "      <td>0.0</td>\n",
       "      <td>0.0</td>\n",
       "      <td>0</td>\n",
       "      <td>0.000078</td>\n",
       "    </tr>\n",
       "  </tbody>\n",
       "</table>\n",
       "</div>"
      ],
      "text/plain": [
       "                                                                                                                     center  \\\n",
       "0  C:\\Users\\3omd4\\Desktop\\Autonomous Udemy Course\\Behavioural Cloning\\Data Collected\\IMG\\center_2025_02_13_07_12_11_974.jpg   \n",
       "1  C:\\Users\\3omd4\\Desktop\\Autonomous Udemy Course\\Behavioural Cloning\\Data Collected\\IMG\\center_2025_02_13_07_12_12_075.jpg   \n",
       "2  C:\\Users\\3omd4\\Desktop\\Autonomous Udemy Course\\Behavioural Cloning\\Data Collected\\IMG\\center_2025_02_13_07_12_12_178.jpg   \n",
       "3  C:\\Users\\3omd4\\Desktop\\Autonomous Udemy Course\\Behavioural Cloning\\Data Collected\\IMG\\center_2025_02_13_07_12_12_278.jpg   \n",
       "4  C:\\Users\\3omd4\\Desktop\\Autonomous Udemy Course\\Behavioural Cloning\\Data Collected\\IMG\\center_2025_02_13_07_12_12_380.jpg   \n",
       "\n",
       "                                                                                                                      left  \\\n",
       "0   C:\\Users\\3omd4\\Desktop\\Autonomous Udemy Course\\Behavioural Cloning\\Data Collected\\IMG\\left_2025_02_13_07_12_11_974.jpg   \n",
       "1   C:\\Users\\3omd4\\Desktop\\Autonomous Udemy Course\\Behavioural Cloning\\Data Collected\\IMG\\left_2025_02_13_07_12_12_075.jpg   \n",
       "2   C:\\Users\\3omd4\\Desktop\\Autonomous Udemy Course\\Behavioural Cloning\\Data Collected\\IMG\\left_2025_02_13_07_12_12_178.jpg   \n",
       "3   C:\\Users\\3omd4\\Desktop\\Autonomous Udemy Course\\Behavioural Cloning\\Data Collected\\IMG\\left_2025_02_13_07_12_12_278.jpg   \n",
       "4   C:\\Users\\3omd4\\Desktop\\Autonomous Udemy Course\\Behavioural Cloning\\Data Collected\\IMG\\left_2025_02_13_07_12_12_380.jpg   \n",
       "\n",
       "                                                                                                                      right  \\\n",
       "0   C:\\Users\\3omd4\\Desktop\\Autonomous Udemy Course\\Behavioural Cloning\\Data Collected\\IMG\\right_2025_02_13_07_12_11_974.jpg   \n",
       "1   C:\\Users\\3omd4\\Desktop\\Autonomous Udemy Course\\Behavioural Cloning\\Data Collected\\IMG\\right_2025_02_13_07_12_12_075.jpg   \n",
       "2   C:\\Users\\3omd4\\Desktop\\Autonomous Udemy Course\\Behavioural Cloning\\Data Collected\\IMG\\right_2025_02_13_07_12_12_178.jpg   \n",
       "3   C:\\Users\\3omd4\\Desktop\\Autonomous Udemy Course\\Behavioural Cloning\\Data Collected\\IMG\\right_2025_02_13_07_12_12_278.jpg   \n",
       "4   C:\\Users\\3omd4\\Desktop\\Autonomous Udemy Course\\Behavioural Cloning\\Data Collected\\IMG\\right_2025_02_13_07_12_12_380.jpg   \n",
       "\n",
       "   steering  throttle  reverse     speed  \n",
       "0       0.0       0.0        0  0.000078  \n",
       "1       0.0       0.0        0  0.000079  \n",
       "2       0.0       0.0        0  0.000078  \n",
       "3       0.0       0.0        0  0.000078  \n",
       "4       0.0       0.0        0  0.000078  "
      ]
     },
     "execution_count": 81,
     "metadata": {},
     "output_type": "execute_result"
    }
   ],
   "source": [
    "datadir = 'Data Collected'\n",
    "columns = ['center', 'left', 'right', 'steering', 'throttle', 'reverse', 'speed']\n",
    "data = pd.read_csv(os.path.join(datadir, 'driving_log.csv'), names = columns)\n",
    "pd.set_option('display.max_colwidth', None)\n",
    "data.head()"
   ]
  },
  {
   "cell_type": "code",
   "execution_count": 82,
   "metadata": {},
   "outputs": [],
   "source": [
    "def data_plot(data, x_label, y_label):\n",
    "    plt.bar(center, hist, width=0.05)\n",
    "    plt.xlabel(x_label)\n",
    "    plt.ylabel(y_label)\n",
    "    plt.plot((np.min(data['steering']), np.max(data['steering'])), (samples_per_bin, samples_per_bin))\n",
    "    return"
   ]
  },
  {
   "cell_type": "code",
   "execution_count": 83,
   "metadata": {},
   "outputs": [
    {
     "data": {
      "text/html": [
       "<div>\n",
       "<style scoped>\n",
       "    .dataframe tbody tr th:only-of-type {\n",
       "        vertical-align: middle;\n",
       "    }\n",
       "\n",
       "    .dataframe tbody tr th {\n",
       "        vertical-align: top;\n",
       "    }\n",
       "\n",
       "    .dataframe thead th {\n",
       "        text-align: right;\n",
       "    }\n",
       "</style>\n",
       "<table border=\"1\" class=\"dataframe\">\n",
       "  <thead>\n",
       "    <tr style=\"text-align: right;\">\n",
       "      <th></th>\n",
       "      <th>center</th>\n",
       "      <th>left</th>\n",
       "      <th>right</th>\n",
       "      <th>steering</th>\n",
       "      <th>throttle</th>\n",
       "      <th>reverse</th>\n",
       "      <th>speed</th>\n",
       "    </tr>\n",
       "  </thead>\n",
       "  <tbody>\n",
       "    <tr>\n",
       "      <th>0</th>\n",
       "      <td>center_2025_02_13_07_12_11_974.jpg</td>\n",
       "      <td>left_2025_02_13_07_12_11_974.jpg</td>\n",
       "      <td>right_2025_02_13_07_12_11_974.jpg</td>\n",
       "      <td>0.0</td>\n",
       "      <td>0.0</td>\n",
       "      <td>0</td>\n",
       "      <td>0.000078</td>\n",
       "    </tr>\n",
       "    <tr>\n",
       "      <th>1</th>\n",
       "      <td>center_2025_02_13_07_12_12_075.jpg</td>\n",
       "      <td>left_2025_02_13_07_12_12_075.jpg</td>\n",
       "      <td>right_2025_02_13_07_12_12_075.jpg</td>\n",
       "      <td>0.0</td>\n",
       "      <td>0.0</td>\n",
       "      <td>0</td>\n",
       "      <td>0.000079</td>\n",
       "    </tr>\n",
       "    <tr>\n",
       "      <th>2</th>\n",
       "      <td>center_2025_02_13_07_12_12_178.jpg</td>\n",
       "      <td>left_2025_02_13_07_12_12_178.jpg</td>\n",
       "      <td>right_2025_02_13_07_12_12_178.jpg</td>\n",
       "      <td>0.0</td>\n",
       "      <td>0.0</td>\n",
       "      <td>0</td>\n",
       "      <td>0.000078</td>\n",
       "    </tr>\n",
       "    <tr>\n",
       "      <th>3</th>\n",
       "      <td>center_2025_02_13_07_12_12_278.jpg</td>\n",
       "      <td>left_2025_02_13_07_12_12_278.jpg</td>\n",
       "      <td>right_2025_02_13_07_12_12_278.jpg</td>\n",
       "      <td>0.0</td>\n",
       "      <td>0.0</td>\n",
       "      <td>0</td>\n",
       "      <td>0.000078</td>\n",
       "    </tr>\n",
       "    <tr>\n",
       "      <th>4</th>\n",
       "      <td>center_2025_02_13_07_12_12_380.jpg</td>\n",
       "      <td>left_2025_02_13_07_12_12_380.jpg</td>\n",
       "      <td>right_2025_02_13_07_12_12_380.jpg</td>\n",
       "      <td>0.0</td>\n",
       "      <td>0.0</td>\n",
       "      <td>0</td>\n",
       "      <td>0.000078</td>\n",
       "    </tr>\n",
       "  </tbody>\n",
       "</table>\n",
       "</div>"
      ],
      "text/plain": [
       "                               center                              left  \\\n",
       "0  center_2025_02_13_07_12_11_974.jpg  left_2025_02_13_07_12_11_974.jpg   \n",
       "1  center_2025_02_13_07_12_12_075.jpg  left_2025_02_13_07_12_12_075.jpg   \n",
       "2  center_2025_02_13_07_12_12_178.jpg  left_2025_02_13_07_12_12_178.jpg   \n",
       "3  center_2025_02_13_07_12_12_278.jpg  left_2025_02_13_07_12_12_278.jpg   \n",
       "4  center_2025_02_13_07_12_12_380.jpg  left_2025_02_13_07_12_12_380.jpg   \n",
       "\n",
       "                               right  steering  throttle  reverse     speed  \n",
       "0  right_2025_02_13_07_12_11_974.jpg       0.0       0.0        0  0.000078  \n",
       "1  right_2025_02_13_07_12_12_075.jpg       0.0       0.0        0  0.000079  \n",
       "2  right_2025_02_13_07_12_12_178.jpg       0.0       0.0        0  0.000078  \n",
       "3  right_2025_02_13_07_12_12_278.jpg       0.0       0.0        0  0.000078  \n",
       "4  right_2025_02_13_07_12_12_380.jpg       0.0       0.0        0  0.000078  "
      ]
     },
     "execution_count": 83,
     "metadata": {},
     "output_type": "execute_result"
    }
   ],
   "source": [
    "def path_leaf(path):\n",
    "    head, tail = ntpath.split(path)\n",
    "    return tail\n",
    "data['center'] = data['center'].apply(path_leaf)\n",
    "data['left'] = data['left'].apply(path_leaf)\n",
    "data['right'] = data['right'].apply(path_leaf)\n",
    "data.head()"
   ]
  },
  {
   "cell_type": "code",
   "execution_count": 84,
   "metadata": {},
   "outputs": [
    {
     "data": {
      "image/png": "[encoded data removed]",
      "text/plain": [
       "<Figure size 640x480 with 1 Axes>"
      ]
     },
     "metadata": {},
     "output_type": "display_data"
    }
   ],
   "source": [
    "num_bins =25\n",
    "hist,  bins = np.histogram(data['steering'], num_bins)\n",
    "center = (bins[: -1] + bins[1:])*-0.5\n",
    "samples_per_bin = 400\n",
    "\n",
    "data_plot(data, x_label='Recorded Steering Angles', y_label='Frequency')\n"
   ]
  },
  {
   "cell_type": "code",
   "execution_count": 85,
   "metadata": {},
   "outputs": [
    {
     "name": "stdout",
     "output_type": "stream",
     "text": [
      "total data:  6191\n",
      "removed:  4126\n",
      "remaining data:  2065\n"
     ]
    },
    {
     "data": {
      "image/png": "[encoded data removed]",
      "text/plain": [
       "<Figure size 640x480 with 1 Axes>"
      ]
     },
     "metadata": {},
     "output_type": "display_data"
    }
   ],
   "source": [
    "print('total data: ', len(data))\n",
    "remove_list = []\n",
    "\n",
    "for bin in range(num_bins):\n",
    "    lst=[]\n",
    "    for str_ang in range(len(data['steering'])):\n",
    "        if data['steering'][str_ang] >= bins[bin] and data['steering'][str_ang] <= bins[bin+1]:\n",
    "            lst.append(str_ang)\n",
    "    lst = shuffle(lst)\n",
    "    lst = lst[samples_per_bin:]\n",
    "    remove_list.extend(lst)\n",
    "\n",
    "print('removed: ', len(remove_list))\n",
    "data.drop(data.index[remove_list], inplace=True)\n",
    "print('remaining data: ', len(data))\n",
    "\n",
    "hist,  bins = np.histogram(data['steering'], num_bins)\n",
    "center = (bins[: -1] + bins[1:])*-0.5\n",
    "samples_per_bin = 400\n",
    "\n",
    "data_plot(data, x_label='Balanced StrAngles',y_label=' ')\n"
   ]
  },
  {
   "cell_type": "code",
   "execution_count": null,
   "metadata": {},
   "outputs": [],
   "source": []
  }
 ],
 "metadata": {
  "kernelspec": {
   "display_name": "base",
   "language": "python",
   "name": "python3"
  },
  "language_info": {
   "codemirror_mode": {
    "name": "ipython",
    "version": 3
   },
   "file_extension": ".py",
   "mimetype": "text/x-python",
   "name": "python",
   "nbconvert_exporter": "python",
   "pygments_lexer": "ipython3",
   "version": "3.12.3"
  }
 },
 "nbformat": 4,
 "nbformat_minor": 2
}
