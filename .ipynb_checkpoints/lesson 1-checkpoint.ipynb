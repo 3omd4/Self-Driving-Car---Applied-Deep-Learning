{
 "cells": [
  {
   "cell_type": "code",
   "execution_count": 6,
   "id": "f265fd59-d667-413e-80c2-918bf2bef857",
   "metadata": {},
   "outputs": [
    {
     "name": "stdout",
     "output_type": "stream",
     "text": [
      "2\n"
     ]
    }
   ],
   "source": [
    "print(1+1)"
   ]
  },
  {
   "cell_type": "code",
   "execution_count": 10,
   "id": "c1687e2c-83c8-448b-a6e4-dbec405b2b23",
   "metadata": {},
   "outputs": [
    {
     "data": {
      "text/plain": [
       "2"
      ]
     },
     "execution_count": 10,
     "metadata": {},
     "output_type": "execute_result"
    }
   ],
   "source": [
    "(1+1)"
   ]
  },
  {
   "cell_type": "code",
   "execution_count": 12,
   "id": "f9f05e76-2ba1-44cb-bc43-8c96c3db110d",
   "metadata": {},
   "outputs": [
    {
     "data": {
      "text/plain": [
       "36"
      ]
     },
     "execution_count": 12,
     "metadata": {},
     "output_type": "execute_result"
    }
   ],
   "source": [
    "6 ** 2"
   ]
  },
  {
   "cell_type": "code",
   "execution_count": 16,
   "id": "fab1cd8f-33dc-4718-b019-8144170a17ff",
   "metadata": {},
   "outputs": [
    {
     "data": {
      "text/plain": [
       "6"
      ]
     },
     "execution_count": 16,
     "metadata": {},
     "output_type": "execute_result"
    }
   ],
   "source": [
    "13//2 #devide and round to the nearest integer"
   ]
  },
  {
   "cell_type": "code",
   "execution_count": 34,
   "id": "0d2796a4-db59-4446-abe0-8e103b1126bc",
   "metadata": {},
   "outputs": [
    {
     "data": {
      "text/plain": [
       "(21, 'Mohamed', 'male')"
      ]
     },
     "execution_count": 34,
     "metadata": {},
     "output_type": "execute_result"
    }
   ],
   "source": [
    "age, name, gender = 21, 'Mohamed', 'male' #can't use symbols like $&# in variable names\n",
    "age, name, gender "
   ]
  },
  {
   "cell_type": "code",
   "execution_count": 36,
   "id": "c3f21368-1b7b-4519-a700-7639c6e47563",
   "metadata": {},
   "outputs": [
    {
     "data": {
      "text/plain": [
       "26"
      ]
     },
     "execution_count": 36,
     "metadata": {},
     "output_type": "execute_result"
    }
   ],
   "source": [
    "age+=5\n",
    "age"
   ]
  },
  {
   "cell_type": "code",
   "execution_count": 44,
   "id": "0bbfadb1-5cb8-40ac-9ebe-8546686c76df",
   "metadata": {},
   "outputs": [
    {
     "name": "stdout",
     "output_type": "stream",
     "text": [
      "2.3333333333333335\n",
      "<class 'float'>\n"
     ]
    }
   ],
   "source": [
    "x=7\n",
    "y=3\n",
    "z=x/y\n",
    "print(z)\n",
    "print(type(z))"
   ]
  },
  {
   "cell_type": "code",
   "execution_count": 50,
   "id": "e5b7e4f5-9a98-4570-a0fb-2bf090728b05",
   "metadata": {},
   "outputs": [
    {
     "name": "stdout",
     "output_type": "stream",
     "text": [
      "<class 'int'>\n"
     ]
    }
   ],
   "source": [
    "print(type(int(7/3.5)))"
   ]
  },
  {
   "cell_type": "code",
   "execution_count": 52,
   "id": "e9b12f85-221b-4c81-a269-2d3710694b53",
   "metadata": {},
   "outputs": [
    {
     "data": {
      "text/plain": [
       "3"
      ]
     },
     "execution_count": 52,
     "metadata": {},
     "output_type": "execute_result"
    }
   ],
   "source": [
    "w=int(3.7)\n",
    "w"
   ]
  },
  {
   "cell_type": "code",
   "execution_count": 58,
   "id": "a620e953-191a-4969-a91f-3366059bc94c",
   "metadata": {},
   "outputs": [
    {
     "name": "stdout",
     "output_type": "stream",
     "text": [
      "Omar said \"nothing is given\"\n"
     ]
    }
   ],
   "source": [
    "dialogue = 'Omar said \"nothing is given\"'\n",
    "print(dialogue)"
   ]
  },
  {
   "cell_type": "code",
   "execution_count": 60,
   "id": "d869a92e-9f57-4722-85c9-fdfe205640fa",
   "metadata": {},
   "outputs": [
    {
     "name": "stdout",
     "output_type": "stream",
     "text": [
      "3omd4 replied 'Every thing is Earned'\n"
     ]
    }
   ],
   "source": [
    "dialogue = '3omd4 replied \\'Every thing is Earned\\''\n",
    "print(dialogue)"
   ]
  },
  {
   "cell_type": "code",
   "execution_count": 66,
   "id": "3cffe79a-cea4-42b1-8bf1-b04bbd72d5d1",
   "metadata": {},
   "outputs": [
    {
     "name": "stdout",
     "output_type": "stream",
     "text": [
      "I'm 21   years old\n"
     ]
    }
   ],
   "source": [
    "segment_1=\"I'm 21\"\n",
    "segment_2=\"years old\"\n",
    "sentence= segment_1 + 3*' ' + segment_2\n",
    "print(sentence)"
   ]
  },
  {
   "cell_type": "code",
   "execution_count": 70,
   "id": "086aee2a-c25f-4ee3-9941-4505be0ded1e",
   "metadata": {},
   "outputs": [
    {
     "name": "stdout",
     "output_type": "stream",
     "text": [
      "18\n"
     ]
    }
   ],
   "source": [
    "print(len(sentence)) #returns the length of the string"
   ]
  },
  {
   "cell_type": "code",
   "execution_count": 82,
   "id": "04656069-5af2-423f-90a1-35bffa9184c8",
   "metadata": {},
   "outputs": [],
   "source": [
    "flag_1=True\n",
    "flag_2=False"
   ]
  },
  {
   "cell_type": "code",
   "execution_count": 84,
   "id": "7c42dd82-8d31-4f5c-baaf-81930573d96a",
   "metadata": {},
   "outputs": [
    {
     "name": "stdout",
     "output_type": "stream",
     "text": [
      "False\n",
      "<class 'bool'>\n"
     ]
    }
   ],
   "source": [
    "comparison = 1>2 or not 1<2\n",
    "print (comparison)\n",
    "print(type(comparison))"
   ]
  },
  {
   "cell_type": "code",
   "execution_count": 86,
   "id": "a2880612-e2fb-4889-8c6e-113e641e93c5",
   "metadata": {},
   "outputs": [],
   "source": [
    "#methods"
   ]
  },
  {
   "cell_type": "code",
   "execution_count": 94,
   "id": "6b7185ed-b764-4d53-92a0-70892d342ef5",
   "metadata": {},
   "outputs": [
    {
     "name": "stdout",
     "output_type": "stream",
     "text": [
      "HARRY POTTER\n",
      "harry potter\n",
      "3\n"
     ]
    }
   ],
   "source": [
    "movie = 'Harry Potter'\n",
    "print(movie.upper())\n",
    "print(movie.lower())\n",
    "print(movie.count('r'))"
   ]
  },
  {
   "cell_type": "code",
   "execution_count": 96,
   "id": "571806a4-83c8-42bd-a014-41f47cb65119",
   "metadata": {},
   "outputs": [],
   "source": [
    "# sequence [element_1, element_2, element_3] (lists& tuples)"
   ]
  },
  {
   "cell_type": "code",
   "execution_count": 100,
   "id": "4a6c29bb-86c4-4797-8424-ad6fff4f9a31",
   "metadata": {},
   "outputs": [
    {
     "data": {
      "text/plain": [
       "'jane'"
      ]
     },
     "execution_count": 100,
     "metadata": {},
     "output_type": "execute_result"
    }
   ],
   "source": [
    "names = ['jane', '3omd4', 'du7ha'] # list\n",
    "names[0]"
   ]
  },
  {
   "cell_type": "code",
   "execution_count": 116,
   "id": "e91f4800-5a8f-462a-97b7-1c7647a1974d",
   "metadata": {},
   "outputs": [
    {
     "name": "stdout",
     "output_type": "stream",
     "text": [
      "<class 'list'>\n",
      "<class 'bool'>\n",
      "<class 'str'>\n",
      "<class 'int'>\n"
     ]
    }
   ],
   "source": [
    "random = [True, 'Hello', 69] # lists can have different data types\n",
    "print(type(random))\n",
    "print(type(random[0]))\n",
    "print(type(random[1]))\n",
    "print(type(random[2]))"
   ]
  },
  {
   "cell_type": "code",
   "execution_count": 114,
   "id": "f8b9ae70-2306-4432-9cda-c22890394e38",
   "metadata": {},
   "outputs": [
    {
     "name": "stdout",
     "output_type": "stream",
     "text": [
      "69\n",
      "Hello\n",
      "True\n"
     ]
    }
   ],
   "source": [
    "print(random[-1])\n",
    "print(random[-2])\n",
    "print(random[-3])"
   ]
  },
  {
   "cell_type": "code",
   "execution_count": null,
   "id": "cc69c518-e476-4b37-a266-b556c51ed4d6",
   "metadata": {},
   "outputs": [],
   "source": [
    "#16 SLICING"
   ]
  }
 ],
 "metadata": {
  "kernelspec": {
   "display_name": "Python [conda env:base] *",
   "language": "python",
   "name": "conda-base-py"
  },
  "language_info": {
   "codemirror_mode": {
    "name": "ipython",
    "version": 3
   },
   "file_extension": ".py",
   "mimetype": "text/x-python",
   "name": "python",
   "nbconvert_exporter": "python",
   "pygments_lexer": "ipython3",
   "version": "3.12.4"
  }
 },
 "nbformat": 4,
 "nbformat_minor": 5
}
