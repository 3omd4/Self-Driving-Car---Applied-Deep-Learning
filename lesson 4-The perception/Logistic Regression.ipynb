{
 "cells": [
  {
   "cell_type": "code",
   "execution_count": 18,
   "id": "a8012ff2-af59-4d44-a1a5-83d34faa6801",
   "metadata": {},
   "outputs": [],
   "source": [
    "import numpy as np\n",
    "import matplotlib.pyplot as plt"
   ]
  },
  {
   "cell_type": "code",
   "execution_count": 19,
   "id": "21c5dfcb",
   "metadata": {},
   "outputs": [],
   "source": [
    "def draw (x1, x2):\n",
    "    plt.plot(x1, x2)"
   ]
  },
  {
   "cell_type": "code",
   "execution_count": 29,
   "id": "0253b127",
   "metadata": {},
   "outputs": [
    {
     "name": "stdout",
     "output_type": "stream",
     "text": [
      "(10, 2)\n",
      "(3, 1)\n"
     ]
    }
   ],
   "source": [
    "numberOfpoints = 5\n",
    "np.random.seed(0)\n",
    "bias = np.ones(numberOfpoints)\n",
    "\n",
    "\n",
    "random_x1_values = np.random.normal(10, 2, numberOfpoints) #start from 10, standard deviation = 2\n",
    "random_y1_values = np.random.normal(12, 2, numberOfpoints)\n",
    "random_x2_values = np.random.normal(5, 2, numberOfpoints) #start from 10, standard deviation = 2\n",
    "random_y2_values = np.random.normal(6, 2, numberOfpoints)\n",
    "\n",
    "top_region = np.array([random_x1_values, random_y1_values], bias).transpose()\n",
    "bottom_region = np.array([random_x2_values, random_y2_values], bias).transpose()\n",
    "all_points=np.vstack((top_region, bottom_region))\n",
    "\n",
    "#The Equation is {w1(X1) + w2(X2) + C = 0}\n",
    "w1 = -0.2\n",
    "w2 = -0.35\n",
    "C = 3.5\n",
    "\n",
    "line_parameters = np.matrix([w1, w2, C]).transpose()\n",
    "X1 = np.array([bottom_region[:, 0].min(), top_region[:, 1].max()])\n",
    "X2 = -C /w2 + X1 * (- w1 / w2)\n",
    "print(all_points.shape)\n",
    "print(line_parameters.shape)"
   ]
  },
  {
   "cell_type": "code",
   "execution_count": null,
   "id": "356868a3",
   "metadata": {},
   "outputs": [],
   "source": [
    "fig, ax =plt.subplots(figsize = (4, 4))  #allows multiple plots on the same figure\n",
    "ax.scatter(top_region[:, 0], top_region[:, 1], color='r')\n",
    "ax.scatter(bottom_region[:, 0], bottom_region[:, 1], color='b')\n",
    "draw(X1, X2)\n",
    "\n",
    "plt.show()"
   ]
  }
 ],
 "metadata": {
  "kernelspec": {
   "display_name": "base",
   "language": "python",
   "name": "python3"
  },
  "language_info": {
   "codemirror_mode": {
    "name": "ipython",
    "version": 3
   },
   "file_extension": ".py",
   "mimetype": "text/x-python",
   "name": "python",
   "nbconvert_exporter": "python",
   "pygments_lexer": "ipython3",
   "version": "3.12.3"
  }
 },
 "nbformat": 4,
 "nbformat_minor": 5
}
