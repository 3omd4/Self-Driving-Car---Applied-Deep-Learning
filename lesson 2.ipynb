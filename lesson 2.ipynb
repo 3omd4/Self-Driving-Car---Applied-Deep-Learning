{
 "cells": [
  {
   "cell_type": "code",
   "execution_count": 1,
   "id": "44a9108a-bdf2-4255-9c2d-203a5495a12b",
   "metadata": {},
   "outputs": [
    {
     "ename": "TypeError",
     "evalue": "unsupported operand type(s) for ** or pow(): 'list' and 'int'",
     "output_type": "error",
     "traceback": [
      "\u001b[1;31m---------------------------------------------------------------------------\u001b[0m",
      "\u001b[1;31mTypeError\u001b[0m                                 Traceback (most recent call last)",
      "Cell \u001b[1;32mIn[1], line 1\u001b[0m\n\u001b[1;32m----> 1\u001b[0m list_1\u001b[38;5;241m=\u001b[39m\u001b[38;5;28mlist\u001b[39m(\u001b[38;5;28mrange\u001b[39m(\u001b[38;5;241m1\u001b[39m,\u001b[38;5;241m4\u001b[39m))\u001b[38;5;241m*\u001b[39m\u001b[38;5;241m*\u001b[39m\u001b[38;5;241m2\u001b[39m\n",
      "\u001b[1;31mTypeError\u001b[0m: unsupported operand type(s) for ** or pow(): 'list' and 'int'"
     ]
    }
   ],
   "source": [
    "list_1 =list(range(1,4))**2"
   ]
  },
  {
   "cell_type": "code",
   "execution_count": 5,
   "id": "6eb41f63",
   "metadata": {},
   "outputs": [
    {
     "name": "stdout",
     "output_type": "stream",
     "text": [
      "[1 4 9]\n",
      "[ 1  8 27]\n",
      "[ 2 12 36]\n"
     ]
    }
   ],
   "source": [
    "import numpy as np\n",
    "array_1 = np.arange(1, 4)**2\n",
    "print(array_1)\n",
    "array_2 = np.arange(1, 4)**3\n",
    "print(array_2)\n",
    "print(array_1+array_2)"
   ]
  },
  {
   "cell_type": "code",
   "execution_count": 8,
   "id": "ca21feaa",
   "metadata": {},
   "outputs": [
    {
     "name": "stdout",
     "output_type": "stream",
     "text": [
      "[ 1 16 81]\n"
     ]
    }
   ],
   "source": [
    "print(np.power(np.array([1, 2, 3]), 4))"
   ]
  },
  {
   "cell_type": "code",
   "execution_count": 9,
   "id": "aeea3da6",
   "metadata": {},
   "outputs": [
    {
     "name": "stdout",
     "output_type": "stream",
     "text": [
      "[-1 -2 -3]\n"
     ]
    }
   ],
   "source": [
    "print(np.negative(np.array([1, 2, 3])))"
   ]
  },
  {
   "cell_type": "code",
   "execution_count": 10,
   "id": "69b3821d",
   "metadata": {},
   "outputs": [
    {
     "name": "stdout",
     "output_type": "stream",
     "text": [
      "[ 2.71828183  7.3890561  20.08553692]\n"
     ]
    }
   ],
   "source": [
    "print(np.exp(np.array([1, 2, 3])))"
   ]
  },
  {
   "cell_type": "code",
   "execution_count": 11,
   "id": "bdb544f3",
   "metadata": {},
   "outputs": [
    {
     "name": "stdout",
     "output_type": "stream",
     "text": [
      "[0.         0.69314718 1.09861229]\n"
     ]
    }
   ],
   "source": [
    "print(np.log(np.array([1, 2, 3])))"
   ]
  },
  {
   "cell_type": "code",
   "execution_count": 12,
   "id": "1824d6fa",
   "metadata": {},
   "outputs": [
    {
     "name": "stdout",
     "output_type": "stream",
     "text": [
      "[0.84147098 0.90929743 0.14112001]\n"
     ]
    }
   ],
   "source": [
    "print(np.sin(np.array([1, 2, 3])))#only angles in radian"
   ]
  },
  {
   "cell_type": "code",
   "execution_count": 14,
   "id": "ef2ffd31",
   "metadata": {},
   "outputs": [
    {
     "name": "stdout",
     "output_type": "stream",
     "text": [
      "[[0 1 2]\n",
      " [0 1 2]\n",
      " [0 1 2]]\n"
     ]
    }
   ],
   "source": [
    "x=np.arange(3)\n",
    "y=np.arange(3)\n",
    "z=np.arange(3)\n",
    "multi_array = np.array([x, y, z])\n",
    "print(multi_array)"
   ]
  },
  {
   "cell_type": "code",
   "execution_count": 15,
   "id": "21dd5d71",
   "metadata": {},
   "outputs": [
    {
     "name": "stdout",
     "output_type": "stream",
     "text": [
      "(3, 3)\n"
     ]
    }
   ],
   "source": [
    "print(multi_array.shape)"
   ]
  },
  {
   "cell_type": "code",
   "execution_count": 17,
   "id": "66ca6a62",
   "metadata": {},
   "outputs": [
    {
     "name": "stdout",
     "output_type": "stream",
     "text": [
      "[ 1.  2.  3.  4.  5.  6.  7.  8.  9. 10.]\n"
     ]
    }
   ],
   "source": [
    "print (np.linspace(1,10, 10))"
   ]
  },
  {
   "cell_type": "code",
   "execution_count": 18,
   "id": "a2c4aafa",
   "metadata": {},
   "outputs": [
    {
     "name": "stdout",
     "output_type": "stream",
     "text": [
      "[ 1.          1.18367347  1.36734694  1.55102041  1.73469388  1.91836735\n",
      "  2.10204082  2.28571429  2.46938776  2.65306122  2.83673469  3.02040816\n",
      "  3.20408163  3.3877551   3.57142857  3.75510204  3.93877551  4.12244898\n",
      "  4.30612245  4.48979592  4.67346939  4.85714286  5.04081633  5.2244898\n",
      "  5.40816327  5.59183673  5.7755102   5.95918367  6.14285714  6.32653061\n",
      "  6.51020408  6.69387755  6.87755102  7.06122449  7.24489796  7.42857143\n",
      "  7.6122449   7.79591837  7.97959184  8.16326531  8.34693878  8.53061224\n",
      "  8.71428571  8.89795918  9.08163265  9.26530612  9.44897959  9.63265306\n",
      "  9.81632653 10.        ]\n"
     ]
    }
   ],
   "source": [
    "print (np.linspace(1,10, 50))"
   ]
  },
  {
   "cell_type": "code",
   "execution_count": 19,
   "id": "32dde353",
   "metadata": {},
   "outputs": [
    {
     "name": "stdout",
     "output_type": "stream",
     "text": [
      "[ 1.          1.09090909  1.18181818  1.27272727  1.36363636  1.45454545\n",
      "  1.54545455  1.63636364  1.72727273  1.81818182  1.90909091  2.\n",
      "  2.09090909  2.18181818  2.27272727  2.36363636  2.45454545  2.54545455\n",
      "  2.63636364  2.72727273  2.81818182  2.90909091  3.          3.09090909\n",
      "  3.18181818  3.27272727  3.36363636  3.45454545  3.54545455  3.63636364\n",
      "  3.72727273  3.81818182  3.90909091  4.          4.09090909  4.18181818\n",
      "  4.27272727  4.36363636  4.45454545  4.54545455  4.63636364  4.72727273\n",
      "  4.81818182  4.90909091  5.          5.09090909  5.18181818  5.27272727\n",
      "  5.36363636  5.45454545  5.54545455  5.63636364  5.72727273  5.81818182\n",
      "  5.90909091  6.          6.09090909  6.18181818  6.27272727  6.36363636\n",
      "  6.45454545  6.54545455  6.63636364  6.72727273  6.81818182  6.90909091\n",
      "  7.          7.09090909  7.18181818  7.27272727  7.36363636  7.45454545\n",
      "  7.54545455  7.63636364  7.72727273  7.81818182  7.90909091  8.\n",
      "  8.09090909  8.18181818  8.27272727  8.36363636  8.45454545  8.54545455\n",
      "  8.63636364  8.72727273  8.81818182  8.90909091  9.          9.09090909\n",
      "  9.18181818  9.27272727  9.36363636  9.45454545  9.54545455  9.63636364\n",
      "  9.72727273  9.81818182  9.90909091 10.        ]\n"
     ]
    }
   ],
   "source": [
    "print (np.linspace(1,10, 100))"
   ]
  },
  {
   "cell_type": "code",
   "execution_count": 25,
   "id": "50a2ecdf",
   "metadata": {},
   "outputs": [
    {
     "name": "stdout",
     "output_type": "stream",
     "text": [
      "[ 1  5  9 13 17 21 25 29]\n"
     ]
    }
   ],
   "source": [
    "print(np.arange(1, 30, 4))"
   ]
  },
  {
   "cell_type": "code",
   "execution_count": 32,
   "id": "801204a1",
   "metadata": {},
   "outputs": [
    {
     "name": "stdout",
     "output_type": "stream",
     "text": [
      "[1.  1.9 2.8 3.7 4.6 5.5 6.4 7.3 8.2 9.1]\n"
     ]
    }
   ],
   "source": [
    "print(np.linspace(1, 10, 10, False)) #10 is excluded from the range"
   ]
  },
  {
   "cell_type": "code",
   "execution_count": 31,
   "id": "95f3d801",
   "metadata": {},
   "outputs": [
    {
     "name": "stdout",
     "output_type": "stream",
     "text": [
      "[ 1.  2.  3.  4.  5.  6.  7.  8.  9. 10.]\n"
     ]
    }
   ],
   "source": [
    "print(np.linspace(1, 10, 10, True))"
   ]
  },
  {
   "cell_type": "code",
   "execution_count": 37,
   "id": "1623fcbd",
   "metadata": {},
   "outputs": [
    {
     "name": "stdout",
     "output_type": "stream",
     "text": [
      "int16\n",
      "uint32\n"
     ]
    }
   ],
   "source": [
    "x=np.arange(3)\n",
    "y=np.arange(3)\n",
    "z=np.arange(3)\n",
    "multi_array = np.array([x, y, z], dtype=np.int16)\n",
    "print(multi_array.dtype)\n",
    "multi_array = np.array([x, y, z], dtype=np.uint)\n",
    "print(multi_array.dtype)"
   ]
  },
  {
   "cell_type": "code",
   "execution_count": 43,
   "id": "9a87165f",
   "metadata": {},
   "outputs": [
    {
     "name": "stdout",
     "output_type": "stream",
     "text": [
      "[0 1 2 3 4 5 6 7 8 9]\n",
      "[2 3 4 5 6]\n",
      "[2 4 6]\n"
     ]
    }
   ],
   "source": [
    "x=np.arange(0,10)\n",
    "print(x)\n",
    "print(x[2:7])#index 7 is execluded\n",
    "print(x[2:7:2])\n"
   ]
  },
  {
   "cell_type": "code",
   "execution_count": 52,
   "id": "4e2fb95f",
   "metadata": {},
   "outputs": [
    {
     "name": "stdout",
     "output_type": "stream",
     "text": [
      "[[0 1 2]\n",
      " [3 4 5]\n",
      " [6 7 8]]\n",
      "7\n"
     ]
    }
   ],
   "source": [
    "x= np.arange(9).reshape(3, 3)\n",
    "print(x)\n",
    "print(x[2, 1])"
   ]
  },
  {
   "cell_type": "code",
   "execution_count": 47,
   "id": "60632b78",
   "metadata": {},
   "outputs": [
    {
     "name": "stdout",
     "output_type": "stream",
     "text": [
      "[[0 1 2]\n",
      " [3 4 5]\n",
      " [6 7 8]]\n"
     ]
    }
   ],
   "source": [
    "x= np.arange(9).reshape(3, -1) #-1 means choose number of rows automatically\n",
    "print(x)"
   ]
  },
  {
   "cell_type": "code",
   "execution_count": 49,
   "id": "9ed254c7",
   "metadata": {},
   "outputs": [
    {
     "name": "stdout",
     "output_type": "stream",
     "text": [
      "[[[ 0  1  2]\n",
      "  [ 3  4  5]\n",
      "  [ 6  7  8]]\n",
      "\n",
      " [[ 9 10 11]\n",
      "  [12 13 14]\n",
      "  [15 16 17]]]\n"
     ]
    }
   ],
   "source": [
    "x= np.arange(18).reshape(2, 3, 3) \n",
    "print(x)"
   ]
  },
  {
   "cell_type": "code",
   "execution_count": 50,
   "id": "5fdb6f37",
   "metadata": {},
   "outputs": [
    {
     "name": "stdout",
     "output_type": "stream",
     "text": [
      "[[[ 0  1]\n",
      "  [ 2  3]\n",
      "  [ 4  5]]\n",
      "\n",
      " [[ 6  7]\n",
      "  [ 8  9]\n",
      "  [10 11]]\n",
      "\n",
      " [[12 13]\n",
      "  [14 15]\n",
      "  [16 17]]]\n"
     ]
    }
   ],
   "source": [
    "x= np.arange(18).reshape(3, 3, 2) \n",
    "print(x)"
   ]
  },
  {
   "cell_type": "code",
   "execution_count": 86,
   "id": "5b37ff6d",
   "metadata": {},
   "outputs": [
    {
     "name": "stdout",
     "output_type": "stream",
     "text": [
      "[[[ 0  1  2]\n",
      "  [ 3  4  5]]\n",
      "\n",
      " [[ 6  7  8]\n",
      "  [ 9 10 11]]\n",
      "\n",
      " [[12 13 14]\n",
      "  [15 16 17]]]\n",
      "[6 7 8]\n",
      "[[12 13 14]\n",
      " [15 16 17]]\n"
     ]
    }
   ],
   "source": [
    "x= np.arange(18).reshape(3, 2, 3) \n",
    "print(x)\n",
    "print(x[1][0][:])\n",
    "print(x[:][2][:])\n",
    "\n"
   ]
  },
  {
   "cell_type": "code",
   "execution_count": 89,
   "id": "5cbac25b",
   "metadata": {},
   "outputs": [
    {
     "name": "stdout",
     "output_type": "stream",
     "text": [
      "[[[False False False]\n",
      "  [False False False]]\n",
      "\n",
      " [[ True  True  True]\n",
      "  [ True  True  True]]\n",
      "\n",
      " [[ True  True  True]\n",
      "  [ True  True  True]]]\n",
      "[ 6  7  8  9 10 11 12 13 14 15 16 17]\n",
      "[ 6  7  8  9 10 11 12 13 14 15 16 17]\n"
     ]
    }
   ],
   "source": [
    "comparison= x>5\n",
    "print(comparison)\n",
    "print(x[comparison])\n",
    "print(x[x>5])"
   ]
  },
  {
   "cell_type": "code",
   "execution_count": 90,
   "id": "21814072",
   "metadata": {},
   "outputs": [
    {
     "data": {
      "text/plain": [
       "17"
      ]
     },
     "execution_count": 90,
     "metadata": {},
     "output_type": "execute_result"
    }
   ],
   "source": [
    "x.max()"
   ]
  },
  {
   "cell_type": "code",
   "execution_count": 91,
   "id": "881e246d",
   "metadata": {},
   "outputs": [
    {
     "data": {
      "text/plain": [
       "0"
      ]
     },
     "execution_count": 91,
     "metadata": {},
     "output_type": "execute_result"
    }
   ],
   "source": [
    "x.min()"
   ]
  },
  {
   "cell_type": "code",
   "execution_count": 102,
   "id": "7bebd7b1",
   "metadata": {},
   "outputs": [
    {
     "name": "stdout",
     "output_type": "stream",
     "text": [
      "[[0 1 2]\n",
      " [3 4 5]\n",
      " [6 7 8]]\n",
      "[0 1 2 3 4 5 6 7 8]\n",
      "[0 1 2 3 4 5 6 7 8]\n"
     ]
    }
   ],
   "source": [
    "x=np.arange(9).reshape(3, 3)\n",
    "print (x)\n",
    "ravelled_array = x.ravel()\n",
    "print(ravelled_array)\n",
    "flattened_array = x.flatten()\n",
    "print(flattened_array)\n",
    "\n"
   ]
  },
  {
   "cell_type": "code",
   "execution_count": 103,
   "id": "4c42f30a",
   "metadata": {},
   "outputs": [
    {
     "name": "stdout",
     "output_type": "stream",
     "text": [
      "[[10  1  2]\n",
      " [ 3  4  5]\n",
      " [ 6  7  8]]\n",
      "[10  1  2  3  4  5  6  7  8]\n",
      "[0 1 2 3 4 5 6 7 8]\n"
     ]
    }
   ],
   "source": [
    "x[0][0]=10  #flattend is also changed\n",
    "print (x)\n",
    "print(ravelled_array)\n",
    "print(flattened_array)"
   ]
  },
  {
   "cell_type": "code",
   "execution_count": 104,
   "id": "2fcbc38f",
   "metadata": {},
   "outputs": [
    {
     "name": "stdout",
     "output_type": "stream",
     "text": [
      "[[20  1  2]\n",
      " [ 3  4  5]\n",
      " [ 6  7  8]]\n",
      "[20  1  2  3  4  5  6  7  8]\n"
     ]
    }
   ],
   "source": [
    "ravelled_array[0]=20\n",
    "print (x)\n",
    "print(ravelled_array)\n"
   ]
  },
  {
   "cell_type": "code",
   "execution_count": 110,
   "id": "f6bde5c9",
   "metadata": {},
   "outputs": [
    {
     "name": "stdout",
     "output_type": "stream",
     "text": [
      "[[0 1 2]\n",
      " [3 4 5]\n",
      " [6 7 8]]\n",
      "[[0 3 6]\n",
      " [1 4 7]\n",
      " [2 5 8]]\n",
      "[[0 3 6]\n",
      " [1 4 7]\n",
      " [2 5 8]]\n"
     ]
    }
   ],
   "source": [
    "y=np.arange(9)\n",
    "y.shape=[3, 3]\n",
    "print(y)\n",
    "print(y.transpose())#changes the columns with rows\n",
    "print(y.T)#same as transpose\n"
   ]
  },
  {
   "cell_type": "code",
   "execution_count": 113,
   "id": "fbe4b58d",
   "metadata": {},
   "outputs": [
    {
     "name": "stdout",
     "output_type": "stream",
     "text": [
      "[[0 1 2 3 4 5]\n",
      " [6 7 8 0 0 0]\n",
      " [0 0 0 0 0 0]\n",
      " [0 0 0 0 0 0]\n",
      " [0 0 0 0 0 0]\n",
      " [0 0 0 0 0 0]]\n"
     ]
    }
   ],
   "source": [
    "print(np.resize(y, (6, 6)))"
   ]
  },
  {
   "cell_type": "code",
   "execution_count": 114,
   "id": "989e4ec6",
   "metadata": {},
   "outputs": [
    {
     "name": "stdout",
     "output_type": "stream",
     "text": [
      "[0 0 0 0 0]\n"
     ]
    }
   ],
   "source": [
    "print(np.zeros(5, dtype=int))"
   ]
  },
  {
   "cell_type": "code",
   "execution_count": 116,
   "id": "fbeee65c",
   "metadata": {},
   "outputs": [
    {
     "name": "stdout",
     "output_type": "stream",
     "text": [
      "[[1 1]\n",
      " [1 1]\n",
      " [1 1]]\n"
     ]
    }
   ],
   "source": [
    "print(np.ones((3,2), dtype=int))"
   ]
  },
  {
   "cell_type": "code",
   "execution_count": 121,
   "id": "76a4ff3d",
   "metadata": {},
   "outputs": [
    {
     "name": "stdout",
     "output_type": "stream",
     "text": [
      "[[1 0 0]\n",
      " [0 1 0]\n",
      " [0 0 1]]\n"
     ]
    }
   ],
   "source": [
    "print (np.eye(3, dtype=int))"
   ]
  },
  {
   "cell_type": "code",
   "execution_count": 124,
   "id": "0c415340",
   "metadata": {},
   "outputs": [
    {
     "name": "stdout",
     "output_type": "stream",
     "text": [
      "[[0.31260954 0.61631409 0.62834288 0.25693009]\n",
      " [0.60975435 0.17481054 0.80417067 0.10300598]\n",
      " [0.80712022 0.77603083 0.7938082  0.65019807]\n",
      " [0.72220406 0.95402121 0.05590227 0.61013547]]\n"
     ]
    }
   ],
   "source": [
    "print(np.random.rand(4, 4))#0 <= random samples <= 1"
   ]
  },
  {
   "cell_type": "code",
   "execution_count": 127,
   "id": "be1597ee",
   "metadata": {},
   "outputs": [
    {
     "name": "stdout",
     "output_type": "stream",
     "text": [
      "[[0 3 5]\n",
      " [5 5 2]]\n"
     ]
    }
   ],
   "source": [
    "mat_a=np.matrix([0, 3, 5, 5, 5, 2]).reshape(2, 3)\n",
    "print(mat_a)"
   ]
  },
  {
   "cell_type": "code",
   "execution_count": 128,
   "id": "fa0216ef",
   "metadata": {},
   "outputs": [
    {
     "name": "stdout",
     "output_type": "stream",
     "text": [
      "[[3 4]\n",
      " [3 2]\n",
      " [4 2]]\n"
     ]
    }
   ],
   "source": [
    "mat_b=np.matrix([3, 4, 3, 2, 4, 2]).reshape(3, 2)\n",
    "print(mat_b)"
   ]
  },
  {
   "cell_type": "code",
   "execution_count": 132,
   "id": "a1e3f376",
   "metadata": {},
   "outputs": [
    {
     "name": "stdout",
     "output_type": "stream",
     "text": [
      "[[29 16]\n",
      " [38 34]]\n",
      "[[29 16]\n",
      " [38 34]]\n"
     ]
    }
   ],
   "source": [
    "print(mat_a*mat_b)\n",
    "print(np.matmul(mat_a, mat_b))#same as above"
   ]
  },
  {
   "cell_type": "code",
   "execution_count": 134,
   "id": "1117dbea",
   "metadata": {},
   "outputs": [
    {
     "name": "stdout",
     "output_type": "stream",
     "text": [
      "[[29 16]\n",
      " [38 34]]\n"
     ]
    }
   ],
   "source": [
    "mat_a=np.array([0, 3, 5, 5, 5, 2]).reshape(2, 3)\n",
    "mat_b=np.array([3, 4, 3, 2, 4, 2]).reshape(3, 2)\n",
    "#print(mat_a*mat_b)  #in order to do this they should be of the same size and the multiplication isn't like matrices\n",
    "print(np.matmul(mat_a, mat_b))"
   ]
  },
  {
   "cell_type": "code",
   "execution_count": 135,
   "id": "ea77a39c",
   "metadata": {},
   "outputs": [
    {
     "data": {
      "text/plain": [
       "array([[29, 16],\n",
       "       [38, 34]])"
      ]
     },
     "execution_count": 135,
     "metadata": {},
     "output_type": "execute_result"
    }
   ],
   "source": [
    "mat_a@mat_b # same as two methods"
   ]
  },
  {
   "cell_type": "code",
   "execution_count": 151,
   "id": "deee6611",
   "metadata": {},
   "outputs": [],
   "source": [
    "x=np.arange(4).reshape(2, 2)\n",
    "y=np.arange(4, 8).reshape(2, 2)\n"
   ]
  },
  {
   "cell_type": "code",
   "execution_count": 144,
   "id": "0a02f33e",
   "metadata": {},
   "outputs": [
    {
     "name": "stdout",
     "output_type": "stream",
     "text": [
      "[[0 1 4 5]\n",
      " [2 3 6 7]]\n",
      "[[0 1 4 5 0 1]\n",
      " [2 3 6 7 2 3]]\n"
     ]
    }
   ],
   "source": [
    "#horizontally stacking\n",
    "z=np.hstack((x,y))#should have the samme number of rows\n",
    "print (z)\n",
    "print(np.hstack((z, x)))# they have the same number of rows but different number of columns"
   ]
  },
  {
   "cell_type": "code",
   "execution_count": 147,
   "id": "83a17d58",
   "metadata": {},
   "outputs": [
    {
     "name": "stdout",
     "output_type": "stream",
     "text": [
      "[[0 1]\n",
      " [2 3]\n",
      " [4 5]\n",
      " [6 7]]\n"
     ]
    }
   ],
   "source": [
    "#vertically stacking\n",
    "z=np.vstack((x,y))#should have the samme number of columns\n",
    "print (z)\n"
   ]
  },
  {
   "cell_type": "code",
   "execution_count": 158,
   "id": "a67c60c7",
   "metadata": {},
   "outputs": [
    {
     "name": "stdout",
     "output_type": "stream",
     "text": [
      "[[0 1]\n",
      " [2 3]\n",
      " [4 5]\n",
      " [6 7]]\n",
      "[[0 1]\n",
      " [2 3]\n",
      " [4 5]\n",
      " [6 7]]\n"
     ]
    }
   ],
   "source": [
    "#same as vstack\n",
    "z=np.concatenate((x,y), axis=0)\n",
    "print(z)\n",
    "z=np.row_stack((x,y))\n",
    "print(z)"
   ]
  },
  {
   "cell_type": "code",
   "execution_count": 161,
   "id": "2512c38b",
   "metadata": {},
   "outputs": [
    {
     "name": "stdout",
     "output_type": "stream",
     "text": [
      "[[0 1 4 5]\n",
      " [2 3 6 7]]\n",
      "[[0 1 4 5]\n",
      " [2 3 6 7]]\n"
     ]
    }
   ],
   "source": [
    "#same as hstack\n",
    "z=np.concatenate((x,y), axis=1)\n",
    "print(z)\n",
    "z=np.column_stack((x,y))\n",
    "print(z)\n",
    "#these two differs in case of 1d array \n",
    "#hstack -> 1d\n",
    "#column_stack -> 2d"
   ]
  },
  {
   "cell_type": "code",
   "execution_count": 153,
   "id": "86489237",
   "metadata": {},
   "outputs": [
    {
     "name": "stdout",
     "output_type": "stream",
     "text": [
      "[[[0 4]\n",
      "  [1 5]]\n",
      "\n",
      " [[2 6]\n",
      "  [3 7]]]\n"
     ]
    }
   ],
   "source": [
    "depth_stack=np.dstack((x, y))#stacks along the third dimension\n",
    "print(depth_stack)"
   ]
  }
 ],
 "metadata": {
  "kernelspec": {
   "display_name": "base",
   "language": "python",
   "name": "python3"
  },
  "language_info": {
   "codemirror_mode": {
    "name": "ipython",
    "version": 3
   },
   "file_extension": ".py",
   "mimetype": "text/x-python",
   "name": "python",
   "nbconvert_exporter": "python",
   "pygments_lexer": "ipython3",
   "version": "3.12.3"
  }
 },
 "nbformat": 4,
 "nbformat_minor": 5
}
